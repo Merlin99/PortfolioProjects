{
 "cells": [
  {
   "cell_type": "code",
   "execution_count": 42,
   "id": "16916b52",
   "metadata": {},
   "outputs": [],
   "source": [
    "#Import Libraries\n",
    "\n",
    "from bs4 import BeautifulSoup\n",
    "import requests\n",
    "import time\n",
    "import datetime\n",
    "import csv\n",
    "import pandas as pd\n",
    "\n",
    "import smtplib"
   ]
  },
  {
   "cell_type": "code",
   "execution_count": 33,
   "id": "450518a2",
   "metadata": {},
   "outputs": [
    {
     "name": "stdout",
     "output_type": "stream",
     "text": [
      "\n",
      "                   PUMA Unisex Sports Socks, Cush Crew, 6 pairs\n",
      "                  \n",
      "\n",
      "\n",
      "\n",
      "\n",
      "\n",
      "                       4.6 out of 5 stars\n",
      "                      \n",
      "\n",
      "\n",
      "\n",
      "\n",
      "\n",
      "\n",
      "\n",
      "\n",
      "\n",
      "\n",
      "\n",
      "\n",
      "                 -13%\n",
      "                \n",
      "\n",
      "\n",
      "                  €13.95\n",
      "                 \n",
      "\n",
      "\n",
      "                   €\n",
      "                  \n",
      "\n",
      "                   13\n",
      "                   \n",
      "                    .\n",
      "                   \n",
      "\n",
      "\n",
      "                   95\n",
      "                  \n",
      "\n",
      "\n",
      "\n",
      "                 (\n",
      "                 \n",
      "\n",
      "                   €2.33\n",
      "                  \n",
      "\n",
      "                   €2.33\n",
      "                  \n",
      "\n",
      "                 / stück)\n",
      "                \n",
      "\n",
      "\n",
      "\n",
      "\n",
      "                  Suggested price:\n",
      "                  \n",
      "\n",
      "                    €15.99\n",
      "                   \n",
      "\n",
      "                    €15.99\n",
      "                   \n",
      "\n",
      "\n",
      "\n",
      "\n",
      "\n",
      "\n",
      "\n",
      "\n",
      "\n",
      "\n",
      "\n",
      "\n",
      "\n",
      "\n",
      "\n",
      "\n",
      "\n",
      "\n",
      "                     The\n",
      "                     \n",
      "                      RRP\n",
      "                     \n",
      "                     is the suggested or recommended retail price of a product set by the manufacturer and provided by a manufacturer, supplier, or seller.\n",
      "                     \n",
      "\n",
      "                       Learn more\n",
      "                      \n",
      "\n",
      "\n",
      "\n",
      "\n",
      "\n",
      "\n",
      "\n",
      "\n"
     ]
    }
   ],
   "source": [
    "# Connect to Website\n",
    "\n",
    "URL='https://www.amazon.de/-/en/Unisex-Sports-Socks-pack-black/dp/B018KIJS10/ref=sr_1_1?pf_rd_i=12419318031&pf_rd_m=A3JWKAKR8XB7XF&pf_rd_p=cf31374d-f99d-4f0f-b6f7-561524a5ebf2&pf_rd_r=6CGFPFTA1W3NNNVJHNW5&pf_rd_s=merchandised-search-3&pf_rd_t=101&qid=1642752229&s=apparel&sr=1-1&th=1&psc=1'\n",
    "headers = {\"User-Agent\": \"Mozilla/5.0 (Windows NT 10.0; Win64; x64) AppleWebKit/537.36 (KHTML, like Gecko) Chrome/78.0.3904.108 Safari/537.36\", \"Accept-Encoding\":\"gzip, deflate\", \"Accept\":\"text/html,application/xhtml+xml,application/xml;q=0.9,*/*;q=0.8\", \"DNT\":\"1\",\"Connection\":\"close\", \"Upgrade-Insecure-Requests\":\"1\"}\n",
    "\n",
    "# Contents of website\n",
    "page=requests.get(URL,headers=headers)\n",
    "\n",
    "soup= BeautifulSoup(page.content,\"html.parser\")\n",
    "soup1= BeautifulSoup(soup.prettify(),'html.parser')\n",
    "\n",
    "product=soup1.find(id='productTitle').get_text()\n",
    "rating=soup1.find(id='acrPopover').get_text()\n",
    "price= soup1.find(id='corePriceDisplay_desktop_feature_div').get_text()\n",
    "\n",
    "print(product)\n",
    "print(rating)\n",
    "print(price)\n",
    "\n",
    "\n",
    "\n"
   ]
  },
  {
   "cell_type": "code",
   "execution_count": 34,
   "id": "9b3601e1",
   "metadata": {},
   "outputs": [
    {
     "name": "stdout",
     "output_type": "stream",
     "text": [
      "13.95\n"
     ]
    }
   ],
   "source": [
    "#Cleaning the price\n",
    "price=price.strip()[43:48]\n",
    "print(price)"
   ]
  },
  {
   "cell_type": "code",
   "execution_count": 37,
   "id": "bcec4b17",
   "metadata": {},
   "outputs": [
    {
     "name": "stdout",
     "output_type": "stream",
     "text": [
      "PUMA Unisex Sports Socks, Cush Crew, 6 pairs\n",
      "4.6\n"
     ]
    }
   ],
   "source": [
    "#Cleaning the Data\n",
    "product=product.strip()\n",
    "rating=rating.strip()[0:3]\n",
    "\n",
    "print(product)\n",
    "print(rating)"
   ]
  },
  {
   "cell_type": "code",
   "execution_count": 39,
   "id": "c46120be",
   "metadata": {},
   "outputs": [
    {
     "name": "stdout",
     "output_type": "stream",
     "text": [
      "2022-01-21\n"
     ]
    }
   ],
   "source": [
    "# Create a Timestamp for your output to track when data was collected\n",
    "today= datetime.date.today()\n",
    "print(today)"
   ]
  },
  {
   "cell_type": "code",
   "execution_count": 40,
   "id": "f2f07b78",
   "metadata": {},
   "outputs": [],
   "source": [
    "#Creating and Populating the csv file\n",
    "header=['Product','Ratings','Price','Date']\n",
    "data=[product,rating,price,today]\n",
    "\n",
    "#commenting out to prevent accidental overide od old dataset\n",
    "\n",
    "#with open('AmazonWebScraperDataset.csv','w', newline='',encoding='UTF8') as file:\n",
    "   # writer=csv.writer(file)\n",
    "   # writer.writerow(header)\n",
    "   # writer.writerow(data)"
   ]
  },
  {
   "cell_type": "code",
   "execution_count": 45,
   "id": "42cd9874",
   "metadata": {},
   "outputs": [
    {
     "name": "stdout",
     "output_type": "stream",
     "text": [
      "                                        Product  Ratings  Price        Date\n",
      "0  PUMA Unisex Sports Socks, Cush Crew, 6 pairs      4.6  13.95  2022-01-21\n",
      "1  PUMA Unisex Sports Socks, Cush Crew, 6 pairs      4.6  13.95  2022-01-21\n"
     ]
    }
   ],
   "source": [
    "dataframe=pd.read_csv(r'C:\\Users\\sahoo\\AmazonWebScraperDataset.csv')\n",
    "print(dataframe)"
   ]
  },
  {
   "cell_type": "code",
   "execution_count": 44,
   "id": "4b0b52a4",
   "metadata": {},
   "outputs": [],
   "source": [
    "#Append Data\n",
    "\n",
    "with open('AmazonWebScraperDataset.csv','a+', newline='',encoding='UTF8') as file:\n",
    "    writer=csv.writer(file)\n",
    "    writer.writerow(data)"
   ]
  },
  {
   "cell_type": "code",
   "execution_count": 46,
   "id": "bd5d9dbe",
   "metadata": {},
   "outputs": [],
   "source": [
    "#combining all codes into one function\n",
    "def price_check():\n",
    "    URL='https://www.amazon.de/-/en/Unisex-Sports-Socks-pack-black/dp/B018KIJS10/ref=sr_1_1?pf_rd_i=12419318031&pf_rd_m=A3JWKAKR8XB7XF&pf_rd_p=cf31374d-f99d-4f0f-b6f7-561524a5ebf2&pf_rd_r=6CGFPFTA1W3NNNVJHNW5&pf_rd_s=merchandised-search-3&pf_rd_t=101&qid=1642752229&s=apparel&sr=1-1&th=1&psc=1'\n",
    "    headers = {\"User-Agent\": \"Mozilla/5.0 (Windows NT 10.0; Win64; x64) AppleWebKit/537.36 (KHTML, like Gecko) Chrome/78.0.3904.108 Safari/537.36\", \"Accept-Encoding\":\"gzip, deflate\", \"Accept\":\"text/html,application/xhtml+xml,application/xml;q=0.9,*/*;q=0.8\", \"DNT\":\"1\",\"Connection\":\"close\", \"Upgrade-Insecure-Requests\":\"1\"}\n",
    "\n",
    "    page=requests.get(URL,headers=headers)\n",
    "\n",
    "    soup= BeautifulSoup(page.content,\"html.parser\")\n",
    "    soup1= BeautifulSoup(soup.prettify(),'html.parser')\n",
    "\n",
    "    product=soup1.find(id='productTitle').get_text()\n",
    "    rating=soup1.find(id='acrPopover').get_text()\n",
    "    price= soup1.find(id='corePriceDisplay_desktop_feature_div').get_text()\n",
    "    \n",
    "    price=price.strip()[43:48]\n",
    "    product=product.strip()\n",
    "    rating=rating.strip()[0:3]\n",
    "    today= datetime.date.today()\n",
    "    \n",
    "    header=['Product','Ratings','Price','Date']\n",
    "    data=[product,rating,price,today]\n",
    "    \n",
    "    with open('AmazonWebScraperDataset.csv','a+', newline='',encoding='UTF8') as file:\n",
    "        writer=csv.writer(file)\n",
    "        writer.writerow(data)\n",
    "        \n",
    "        #for a later side project\n",
    "        \n",
    "        if(price<10):\n",
    "            send_mail()\n",
    "    \n",
    "    "
   ]
  },
  {
   "cell_type": "code",
   "execution_count": null,
   "id": "11c4b929",
   "metadata": {},
   "outputs": [],
   "source": [
    "#Runs price_check and appends data every 24 hours\n",
    "\n",
    "while(True):\n",
    "    price_check()\n",
    "    time.sleep(86400)"
   ]
  },
  {
   "cell_type": "code",
   "execution_count": null,
   "id": "9a74457d",
   "metadata": {},
   "outputs": [],
   "source": [
    "# for sending alert mails\n",
    "def send_mail():\n",
    "    server = smtplib.SMTP_SSL('smtp.gmail.com',465)\n",
    "    server.ehlo()\n",
    "    #server.starttls()\n",
    "    server.ehlo()\n",
    "    server.login('Sahooprasun96@gmail.com','xxxxxxxxxxxxxx')\n",
    "    \n",
    "    subject = \"The price of the product has been reduced\"\n",
    "    body = \"Here's the link.https://www.amazon.de/-/en/Unisex-Sports-Socks-pack-black/dp/B018KIJS10/ref=sr_1_1?pf_rd_i=12419318031&pf_rd_m=A3JWKAKR8XB7XF&pf_rd_p=cf31374d-f99d-4f0f-b6f7-561524a5ebf2&pf_rd_r=6CGFPFTA1W3NNNVJHNW5&pf_rd_s=merchandised-search-3&pf_rd_t=101&qid=1642752229&s=apparel&sr=1-1&th=1&psc=1\"\n",
    "   \n",
    "    msg = f\"Subject: {subject}\\n\\n{body}\"\n",
    "    \n",
    "    server.sendmail(\n",
    "        'Sahooprasun96@gmail.com',\n",
    "        msg\n",
    "     \n",
    "    )"
   ]
  }
 ],
 "metadata": {
  "kernelspec": {
   "display_name": "Python 3 (ipykernel)",
   "language": "python",
   "name": "python3"
  },
  "language_info": {
   "codemirror_mode": {
    "name": "ipython",
    "version": 3
   },
   "file_extension": ".py",
   "mimetype": "text/x-python",
   "name": "python",
   "nbconvert_exporter": "python",
   "pygments_lexer": "ipython3",
   "version": "3.9.7"
  }
 },
 "nbformat": 4,
 "nbformat_minor": 5
}
